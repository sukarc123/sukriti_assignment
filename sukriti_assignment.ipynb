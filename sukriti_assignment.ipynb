{
 "cells": [
  {
   "cell_type": "code",
   "execution_count": 1,
   "metadata": {},
   "outputs": [],
   "source": [
    "import os"
   ]
  },
  {
   "cell_type": "code",
   "execution_count": 5,
   "metadata": {},
   "outputs": [
    {
     "name": "stdout",
     "output_type": "stream",
     "text": [
      "Enter name of the file (with the extension): myfile.txt\n",
      "Enter the word to be searched (without any space): abc\n",
      "file found\n",
      "\n",
      "success\n"
     ]
    }
   ],
   "source": [
    "F = input(\"Enter name of the file (with the extension): \")\n",
    "W = input(\"Enter the word to be searched (without any space): \")\n",
    "\n",
    "cwd = os.getcwd()\n",
    "list_files = os.listdir(cwd)\n",
    "if F in list_files:\n",
    "    print('file found')\n",
    "    with open(F,'r') as file_read:\n",
    "        file_content = file_read.read()\n",
    "    if W in file_content:\n",
    "        count = file_content.count(W)\n",
    "        with open('new_file.txt','w+') as file_write:\n",
    "            file_write.write(W)\n",
    "        print('file name: ',F,'\\nword: ',W,'\\nno. of occurrences of ',W,': ',count)\n",
    "    else:\n",
    "        with open(F,'a') as file_append:\n",
    "            file_append.write('\\n'+ W)\n",
    "        print('\\nsuccess')\n",
    "else:\n",
    "     with open(F,'w+') as file_write:\n",
    "            file_write.write(W)"
   ]
  },
  {
   "cell_type": "code",
   "execution_count": null,
   "metadata": {},
   "outputs": [],
   "source": []
  }
 ],
 "metadata": {
  "kernelspec": {
   "display_name": "Python 3",
   "language": "python",
   "name": "python3"
  },
  "language_info": {
   "codemirror_mode": {
    "name": "ipython",
    "version": 3
   },
   "file_extension": ".py",
   "mimetype": "text/x-python",
   "name": "python",
   "nbconvert_exporter": "python",
   "pygments_lexer": "ipython3",
   "version": "3.7.4"
  }
 },
 "nbformat": 4,
 "nbformat_minor": 2
}
